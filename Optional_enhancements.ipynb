{
 "cells": [
  {
   "cell_type": "markdown",
   "source": [
    "# Optional enhancements"
   ],
   "metadata": {
    "collapsed": false
   },
   "id": "2e768bbbf4b8b73a"
  },
  {
   "cell_type": "code",
   "execution_count": 18,
   "outputs": [],
   "source": [
    "from pydub import AudioSegment\n",
    "import os\n",
    "import pandas as pd"
   ],
   "metadata": {
    "collapsed": false,
    "ExecuteTime": {
     "end_time": "2025-07-09T17:08:32.861388400Z",
     "start_time": "2025-07-09T17:08:32.850282Z"
    }
   },
   "id": "1c6475c77dbf744f"
  },
  {
   "cell_type": "markdown",
   "source": [
    "# Pitch shift"
   ],
   "metadata": {
    "collapsed": false
   },
   "id": "3766ab97cef2af74"
  },
  {
   "cell_type": "code",
   "execution_count": 19,
   "outputs": [],
   "source": [
    "def apply_pitch_shift_file(input_path: str, output_path: str, semitones: float):\n",
    "    \"\"\"\n",
    "    Apply pitch shift to a file and save it.\n",
    "    \n",
    "    Args:\n",
    "        input_path (str): Path to the input WAV/MP3 file.\n",
    "        output_path (str): Path where the new file will be saved.\n",
    "        semitones (float): Pitch shift amount (+2 = higher, -2 = lower).\n",
    "    \"\"\"\n",
    "    audio = AudioSegment.from_file(input_path).set_channels(1)\n",
    "    new_sample_rate = int(audio.frame_rate * (2.0 ** (semitones / 12.0)))\n",
    "    shifted = audio._spawn(audio.raw_data, overrides={'frame_rate': new_sample_rate})\n",
    "    shifted = shifted.set_frame_rate(audio.frame_rate)\n",
    "    shifted.export(output_path, format=\"wav\")\n"
   ],
   "metadata": {
    "collapsed": false,
    "ExecuteTime": {
     "end_time": "2025-07-09T17:08:38.483728200Z",
     "start_time": "2025-07-09T17:08:38.473389600Z"
    }
   },
   "id": "8f35c7f00c658a03"
  },
  {
   "cell_type": "code",
   "execution_count": 20,
   "outputs": [],
   "source": [
    "input_file = \"processed_audio/en/England_English/common_voice_en_42699890.wav\"\n",
    "output_pitch_up = input_file.replace(\".wav\", \"_pitchup.wav\")\n",
    "output_pitch_down = input_file.replace(\".wav\", \"_pitchdown.wav\")\n",
    "\n",
    "apply_pitch_shift_file(input_file, output_pitch_up, semitones=2)\n",
    "apply_pitch_shift_file(input_file, output_pitch_down, semitones=-2)"
   ],
   "metadata": {
    "collapsed": false,
    "ExecuteTime": {
     "end_time": "2025-07-09T17:08:41.716070200Z",
     "start_time": "2025-07-09T17:08:39.724843700Z"
    }
   },
   "id": "aeddf30710c37355"
  },
  {
   "cell_type": "markdown",
   "source": [
    "# Speed"
   ],
   "metadata": {
    "collapsed": false
   },
   "id": "c9b6232dc7ab20f7"
  },
  {
   "cell_type": "code",
   "execution_count": 21,
   "outputs": [],
   "source": [
    "def change_audio_speed(input_path, output_path, speed=1.1):\n",
    "    \"\"\"\n",
    "    Change the speed of an audio file using pydub.\n",
    "    \n",
    "    Parameters:\n",
    "        input_path (str): Path to the input WAV file.\n",
    "        output_path (str): Path to save the speed-modified WAV.\n",
    "        speed (float): Speed multiplier (e.g., 1.1 = 10% faster, 0.9 = 10% slower)\n",
    "    \"\"\"\n",
    "    try:\n",
    "        sound = AudioSegment.from_file(input_path)\n",
    "        new_frame_rate = int(sound.frame_rate * speed)\n",
    "\n",
    "        sped_up = sound._spawn(sound.raw_data, overrides={\"frame_rate\": new_frame_rate})\n",
    "        sped_up = sped_up.set_frame_rate(sound.frame_rate)\n",
    "\n",
    "        sped_up.export(output_path, format=\"wav\")\n",
    "        print(f\"Saved: {output_path}\")\n",
    "    except Exception as e:\n",
    "        print(f\"Failed to change speed for {input_path}: {e}\")\n"
   ],
   "metadata": {
    "collapsed": false,
    "ExecuteTime": {
     "end_time": "2025-07-09T17:08:57.048635200Z",
     "start_time": "2025-07-09T17:08:57.035168800Z"
    }
   },
   "id": "initial_id"
  },
  {
   "cell_type": "code",
   "execution_count": 22,
   "outputs": [
    {
     "name": "stdout",
     "output_type": "stream",
     "text": [
      "Saved: processed_audio/en/England_English/common_voice_en_42699890_speedup.wav\n",
      "Saved: processed_audio/en/England_English/common_voice_en_42699890_slowdown.wav\n"
     ]
    }
   ],
   "source": [
    "input_file = \"processed_audio/en/England_English/common_voice_en_42699890.wav\"\n",
    "output_file_fast = input_file.replace(\".wav\", \"_speedup.wav\")\n",
    "output_file_slow = input_file.replace(\".wav\", \"_slowdown.wav\")\n",
    "\n",
    "change_audio_speed(input_file, output_file_fast, speed=1.5)   # 10% faster\n",
    "change_audio_speed(input_file, output_file_slow, speed=0.7)   # 10% slower\n"
   ],
   "metadata": {
    "collapsed": false,
    "ExecuteTime": {
     "end_time": "2025-07-09T17:08:59.220204700Z",
     "start_time": "2025-07-09T17:08:58.952169900Z"
    }
   },
   "id": "5b61052ae4142b8"
  },
  {
   "cell_type": "markdown",
   "source": [
    "# Backgorund noise"
   ],
   "metadata": {
    "collapsed": false
   },
   "id": "2bb6eaa62952607f"
  },
  {
   "cell_type": "code",
   "execution_count": 23,
   "outputs": [],
   "source": [
    "def add_background_noise_file(input_path: str, output_path: str, noise_path: str, snr_db: float = 10.0):\n",
    "    \"\"\"\n",
    "    Overlay background noise on audio file and save it.\n",
    "\n",
    "    Args:\n",
    "        input_path (str): Original clean audio.\n",
    "        output_path (str): Destination for noisy version.\n",
    "        noise_path (str): Path to a noise clip (e.g., cafe, traffic).\n",
    "        snr_db (float): Desired signal-to-noise ratio in dB.\n",
    "    \"\"\"\n",
    "    audio = AudioSegment.from_file(input_path).set_channels(1)\n",
    "    noise = AudioSegment.from_file(noise_path).set_channels(1).set_frame_rate(audio.frame_rate)\n",
    "\n",
    "    # Loop noise if needed\n",
    "    if len(noise) < len(audio):\n",
    "        noise = (noise * (len(audio) // len(noise) + 1))[:len(audio)]\n",
    "    else:\n",
    "        noise = noise[:len(audio)]\n",
    "\n",
    "    # Adjust volume of noise to desired SNR\n",
    "    signal_power = audio.dBFS\n",
    "    noise_power = signal_power - snr_db\n",
    "    noise = noise - (noise.dBFS - noise_power)\n",
    "\n",
    "    mixed = audio.overlay(noise)\n",
    "    mixed.export(output_path, format=\"wav\")\n"
   ],
   "metadata": {
    "collapsed": false,
    "ExecuteTime": {
     "end_time": "2025-07-09T17:09:06.230438200Z",
     "start_time": "2025-07-09T17:09:06.222924200Z"
    }
   },
   "id": "7f749020a395efdc"
  },
  {
   "cell_type": "code",
   "execution_count": 24,
   "outputs": [],
   "source": [
    "input_file = \"processed_audio/en/England_English/common_voice_en_42699890.wav\"\n",
    "noise_file = \"data/mixkit-classic-alarm-995.wav\"  \n",
    "output_noisy = input_file.replace(\".wav\", \"_noisy.wav\")\n",
    "\n",
    "add_background_noise_file(input_file, output_noisy, noise_file, snr_db=10)"
   ],
   "metadata": {
    "collapsed": false,
    "ExecuteTime": {
     "end_time": "2025-07-09T17:09:09.060993700Z",
     "start_time": "2025-07-09T17:09:08.967256700Z"
    }
   },
   "id": "d650e09fecff329e"
  },
  {
   "cell_type": "code",
   "execution_count": 31,
   "outputs": [
    {
     "name": "stdout",
     "output_type": "stream",
     "text": [
      "1 channel RIFF @ 512000 bps, 16000 Hz, 4.79 seconds (audio/wav)\n"
     ]
    }
   ],
   "source": [
    "from mutagen.wave import WAVE\n",
    "\n",
    "audio = WAVE(input_file)\n",
    "print(audio.pprint())\n"
   ],
   "metadata": {
    "collapsed": false,
    "ExecuteTime": {
     "end_time": "2025-07-09T18:04:29.700801800Z",
     "start_time": "2025-07-09T18:04:29.594484Z"
    }
   },
   "id": "3ab1d6c648db53ca"
  },
  {
   "cell_type": "code",
   "execution_count": 25,
   "outputs": [
    {
     "name": "stdout",
     "output_type": "stream",
     "text": [
      "                                             dialect  sample_count\n",
      "0                                Deutschland Deutsch            94\n",
      "1                                 Français de France            77\n",
      "2                           Österreichisches Deutsch            57\n",
      "3                                    England English            36\n",
      "4            Français de France,Français de Belgique            24\n",
      "5  Français de France,Accent du Sud Ouest, accent...            20\n",
      "6                                   Schweizerdeutsch            14\n",
      "7  Southern African (South Africa, Zimbabwe, Nami...             9\n",
      "8                                 Australian English             9\n"
     ]
    }
   ],
   "source": [
    "df_all = pd.read_csv(\"final_manifest.csv\")\n",
    "dialect_counts = df_all[\"accents\"].value_counts().reset_index()\n",
    "dialect_counts.columns = [\"dialect\", \"sample_count\"]\n",
    "print(dialect_counts)\n"
   ],
   "metadata": {
    "collapsed": false,
    "ExecuteTime": {
     "end_time": "2025-07-09T17:09:14.001443300Z",
     "start_time": "2025-07-09T17:09:13.937873Z"
    }
   },
   "id": "bdb4cfaa96892b08"
  },
  {
   "cell_type": "code",
   "execution_count": 17,
   "outputs": [
    {
     "data": {
      "text/plain": "                                             accents  clips  total_ms  \\\n7  Southern African (South Africa, Zimbabwe, Nami...      9     44388   \n0                                 Australian English      9     51876   \n6                                   Schweizerdeutsch     14     82656   \n4  Français de France,Accent du Sud Ouest, accent...     20     92196   \n5            Français de France,Français de Belgique     24    124236   \n2                                    England English     36    222408   \n3                                 Français de France     77    295632   \n8                           Österreichisches Deutsch     57    296424   \n1                                Deutschland Deutsch     94    297900   \n\n        avg_ms  total_sec  avg_sec  \n7  4932.000000       44.4      4.9  \n0  5764.000000       51.9      5.8  \n6  5904.000000       82.7      5.9  \n4  4609.800000       92.2      4.6  \n5  5176.500000      124.2      5.2  \n2  6178.000000      222.4      6.2  \n3  3839.376623      295.6      3.8  \n8  5200.421053      296.4      5.2  \n1  3169.148936      297.9      3.2  ",
      "text/html": "<div>\n<style scoped>\n    .dataframe tbody tr th:only-of-type {\n        vertical-align: middle;\n    }\n\n    .dataframe tbody tr th {\n        vertical-align: top;\n    }\n\n    .dataframe thead th {\n        text-align: right;\n    }\n</style>\n<table border=\"1\" class=\"dataframe\">\n  <thead>\n    <tr style=\"text-align: right;\">\n      <th></th>\n      <th>accents</th>\n      <th>clips</th>\n      <th>total_ms</th>\n      <th>avg_ms</th>\n      <th>total_sec</th>\n      <th>avg_sec</th>\n    </tr>\n  </thead>\n  <tbody>\n    <tr>\n      <th>7</th>\n      <td>Southern African (South Africa, Zimbabwe, Nami...</td>\n      <td>9</td>\n      <td>44388</td>\n      <td>4932.000000</td>\n      <td>44.4</td>\n      <td>4.9</td>\n    </tr>\n    <tr>\n      <th>0</th>\n      <td>Australian English</td>\n      <td>9</td>\n      <td>51876</td>\n      <td>5764.000000</td>\n      <td>51.9</td>\n      <td>5.8</td>\n    </tr>\n    <tr>\n      <th>6</th>\n      <td>Schweizerdeutsch</td>\n      <td>14</td>\n      <td>82656</td>\n      <td>5904.000000</td>\n      <td>82.7</td>\n      <td>5.9</td>\n    </tr>\n    <tr>\n      <th>4</th>\n      <td>Français de France,Accent du Sud Ouest, accent...</td>\n      <td>20</td>\n      <td>92196</td>\n      <td>4609.800000</td>\n      <td>92.2</td>\n      <td>4.6</td>\n    </tr>\n    <tr>\n      <th>5</th>\n      <td>Français de France,Français de Belgique</td>\n      <td>24</td>\n      <td>124236</td>\n      <td>5176.500000</td>\n      <td>124.2</td>\n      <td>5.2</td>\n    </tr>\n    <tr>\n      <th>2</th>\n      <td>England English</td>\n      <td>36</td>\n      <td>222408</td>\n      <td>6178.000000</td>\n      <td>222.4</td>\n      <td>6.2</td>\n    </tr>\n    <tr>\n      <th>3</th>\n      <td>Français de France</td>\n      <td>77</td>\n      <td>295632</td>\n      <td>3839.376623</td>\n      <td>295.6</td>\n      <td>3.8</td>\n    </tr>\n    <tr>\n      <th>8</th>\n      <td>Österreichisches Deutsch</td>\n      <td>57</td>\n      <td>296424</td>\n      <td>5200.421053</td>\n      <td>296.4</td>\n      <td>5.2</td>\n    </tr>\n    <tr>\n      <th>1</th>\n      <td>Deutschland Deutsch</td>\n      <td>94</td>\n      <td>297900</td>\n      <td>3169.148936</td>\n      <td>297.9</td>\n      <td>3.2</td>\n    </tr>\n  </tbody>\n</table>\n</div>"
     },
     "execution_count": 17,
     "metadata": {},
     "output_type": "execute_result"
    }
   ],
   "source": [
    "duration_summary = df_all.groupby(\"accents\")[\"duration_ms\"].agg(\n",
    "    clips=\"count\",\n",
    "    total_ms=\"sum\",\n",
    "    avg_ms=\"mean\"\n",
    ").reset_index()\n",
    "\n",
    "duration_summary[\"total_sec\"] = (duration_summary[\"total_ms\"] / 1000).round(1)\n",
    "duration_summary[\"avg_sec\"] = (duration_summary[\"avg_ms\"] / 1000).round(1)\n",
    "duration_summary = duration_summary.sort_values(\"total_sec\")\n",
    "duration_summary\n"
   ],
   "metadata": {
    "collapsed": false,
    "ExecuteTime": {
     "end_time": "2025-07-09T09:36:49.757442500Z",
     "start_time": "2025-07-09T09:36:49.735408300Z"
    }
   },
   "id": "181e31c3f8185c31"
  },
  {
   "cell_type": "code",
   "execution_count": null,
   "outputs": [],
   "source": [
    "# won't do balancing because we have to low number of samples, and it would end up in undersampling or oversampling"
   ],
   "metadata": {
    "collapsed": false
   },
   "id": "7e9cc05eb71bb019"
  }
 ],
 "metadata": {
  "kernelspec": {
   "display_name": "Python 3",
   "language": "python",
   "name": "python3"
  },
  "language_info": {
   "codemirror_mode": {
    "name": "ipython",
    "version": 2
   },
   "file_extension": ".py",
   "mimetype": "text/x-python",
   "name": "python",
   "nbconvert_exporter": "python",
   "pygments_lexer": "ipython2",
   "version": "2.7.6"
  }
 },
 "nbformat": 4,
 "nbformat_minor": 5
}
